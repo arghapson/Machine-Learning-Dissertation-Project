{
  "cells": [
    {
      "cell_type": "code",
      "execution_count": null,
      "metadata": {
        "id": "EEgwTZFD_cj0"
      },
      "outputs": [],
      "source": [
        "import pandas as pd\n",
        "import numpy as np\n",
        "import tensorflow as tf\n",
        "import matplotlib.pyplot as plt\n",
        "import seaborn as sns\n",
        "\n",
        "from sklearn.metrics import accuracy_score, precision_score, recall_score, f1_score, confusion_matrix, classification_report\n",
        "from sklearn.model_selection import train_test_split, GridSearchCV\n",
        "from sklearn.preprocessing import LabelEncoder, StandardScaler\n",
        "from sklearn.ensemble import RandomForestClassifier\n",
        "from sklearn.svm import SVC\n",
        "from imblearn.over_sampling import SMOTE, ADASYN\n",
        "from imblearn.under_sampling import RandomUnderSampler\n",
        "from collections import Counter\n",
        "from google.colab import drive\n",
        "from sklearn.pipeline import Pipeline\n",
        "from tensorflow.keras.models import Sequential\n",
        "from tensorflow.keras.layers import Dense\n",
        "\n",
        "# Mount Google Drive\n",
        "drive.mount('/content/drive')"
      ]
    },
    {
      "cell_type": "code",
      "execution_count": null,
      "metadata": {
        "id": "TP4FG9OEBVRa"
      },
      "outputs": [],
      "source": [
        "# Load the dataset\n",
        "file_path = '/content/drive/MyDrive/AI project/datasets/Drebin-dataset.csv'\n",
        "data = pd.read_csv(file_path)"
      ]
    },
    {
      "cell_type": "code",
      "execution_count": null,
      "metadata": {
        "id": "esU1TC-BEVvb"
      },
      "outputs": [],
      "source": [
        "# Display basic information about the dataset\n",
        "print(\"Dataset Information:\")\n",
        "print(data.info())\n",
        "\n",
        "# Summary statistics\n",
        "print(\"\\nSummary Statistics:\")\n",
        "print(data.describe())\n",
        "\n",
        "# Check for missing values\n",
        "print(\"\\nMissing Values:\")\n",
        "print(data.isnull().sum())"
      ]
    },
    {
      "cell_type": "code",
      "execution_count": null,
      "metadata": {
        "id": "8AhZY47NBWQR"
      },
      "outputs": [],
      "source": [
        "# Viewing the different types of values in column 92\n",
        "column_92_values = data.iloc[:, 92].value_counts()\n",
        "print(column_92_values)"
      ]
    },
    {
      "cell_type": "code",
      "execution_count": null,
      "metadata": {
        "id": "ifpu5kaDEUcE"
      },
      "outputs": [],
      "source": [
        "# Replace '?' with NaN\n",
        "data = data.replace('?', np.NaN)\n",
        "\n",
        "# Display total missing values\n",
        "total_missing_values = sum(data.isna().sum())\n",
        "print(\"Total missing values: \", total_missing_values)\n",
        "\n",
        "# Display dataset\n",
        "display(data)"
      ]
    },
    {
      "cell_type": "code",
      "execution_count": null,
      "metadata": {
        "id": "HZe3QPUPMlMk"
      },
      "outputs": [],
      "source": [
        "# Removing rows with missing values\n",
        "data = data.dropna()\n",
        "\n",
        "# Display information about the new dataset\n",
        "print(\"Shape of data:\", data.shape)\n",
        "data"
      ]
    },
    {
      "cell_type": "code",
      "execution_count": null,
      "metadata": {
        "id": "Uo3q7EwJ_fUh"
      },
      "outputs": [],
      "source": [
        "# Plot class distribution using data with categorical variables to distinguish between benign and malicious\n",
        "plt.figure(figsize=(8, 6))\n",
        "sns.countplot(x='class', data=data)\n",
        "plt.title('Class Distribution')\n",
        "plt.xlabel('Class')\n",
        "plt.ylabel('Count')\n",
        "plt.show()"
      ]
    },
    {
      "cell_type": "code",
      "execution_count": null,
      "metadata": {
        "id": "WSlMVp8I_91Z"
      },
      "outputs": [],
      "source": [
        "# Initialise the LabelEncoder\n",
        "label_encoder = LabelEncoder()\n",
        "\n",
        "# Label encode the target class\n",
        "data['class'] = label_encoder.fit_transform(data['class'])\n",
        "\n",
        "# Convert all columns to numeric\n",
        "for column in data.columns:\n",
        "    data[column] = pd.to_numeric(data[column])\n",
        "\n",
        "# Display the updated dataset\n",
        "print(\"Label Encoded Dataset:\")\n",
        "display(data)\n",
        "\n"
      ]
    },
    {
      "cell_type": "code",
      "execution_count": null,
      "metadata": {
        "id": "YeIexvwZUBZe"
      },
      "outputs": [],
      "source": [
        "# Plot class distribution using encoded data\n",
        "plt.figure(figsize=(8, 6))\n",
        "sns.countplot(x='class', data=data)\n",
        "plt.title('Class Distribution')\n",
        "plt.xlabel('Class')\n",
        "plt.ylabel('Count')\n",
        "plt.show()\n",
        "\n",
        "# Class distribution using data\n",
        "print(\"\\nClass Distribution:\")\n",
        "print(data['class'].value_counts())\n"
      ]
    },
    {
      "cell_type": "code",
      "execution_count": null,
      "metadata": {
        "id": "5d_VMvUfUt_J"
      },
      "outputs": [],
      "source": [
        "# Display the updated dataset\n",
        "display(data)"
      ]
    },
    {
      "cell_type": "code",
      "execution_count": null,
      "metadata": {
        "id": "Q_lDNX1SisAV"
      },
      "outputs": [],
      "source": [
        "# Standardize the data\n",
        "scaler = StandardScaler()\n",
        "data_scaled = data.copy()\n",
        "data_scaled.iloc[:, :-1] = scaler.fit_transform(data.iloc[:, :-1])\n",
        "\n",
        "# Display the scaled dataset\n",
        "print(\"Scaled Dataset:\")\n",
        "display(data_scaled)"
      ]
    },
    {
      "cell_type": "markdown",
      "metadata": {
        "id": "D8_zm2HqsTqZ"
      },
      "source": [
        "FEATURE SELECTION"
      ]
    },
    {
      "cell_type": "code",
      "execution_count": null,
      "metadata": {
        "id": "ERex1abXir9p"
      },
      "outputs": [],
      "source": [
        "# Correlation Analysis with Target Variable\n",
        "correlation_with_target = data.corrwith(data['class']).sort_values(ascending=False)\n",
        "\n",
        "# Convert correlation with target variable to DataFrame\n",
        "corr_with_target_df = pd.DataFrame(correlation_with_target, columns=['Correlation'])\n",
        "\n",
        "# Save correlation with target variable to an Excel file\n",
        "excel_file_path = '/content/drive/MyDrive/AI project/datasets/Correlation_With_Target.xlsx' # Define the file path\n",
        "corr_with_target_df.to_excel(excel_file_path, index=True) # Save correlation to Excel\n",
        "print(\"Correlation with Target Variable saved to:\", excel_file_path)"
      ]
    },
    {
      "cell_type": "code",
      "execution_count": null,
      "metadata": {
        "id": "2d4tljA5o-gs"
      },
      "outputs": [],
      "source": [
        "'''# Remove variables with low correlation (threshold of 0.3)\n",
        "threshold = 0.3\n",
        "high_corr_features = corr_with_target_df[abs(corr_with_target_df['Correlation']) >= threshold].index.tolist()\n",
        "\n",
        "# Count the number of features removed\n",
        "num_features_removed = data.shape[1] - len(high_corr_features)\n",
        "print(f\"Number of features removed due to low correlation: {num_features_removed}\")\n",
        "\n",
        "# Keep only high correlation features in the dataset\n",
        "data_high_corr = data[high_corr_features]\n",
        "\n",
        "# Updated information about the dataset\n",
        "print(\"Shape of data after removing low correlation features:\", data_high_corr.shape)'''"
      ]
    },
    {
      "cell_type": "code",
      "execution_count": null,
      "metadata": {
        "id": "1UQLk-ulm_6f"
      },
      "outputs": [],
      "source": [
        "'''# Function to train and evaluate the Random Forest model\n",
        "def train_evaluate_rf(X, y, description):\n",
        "    # Split the data into training and testing sets\n",
        "    X_train, X_test, y_train, y_test = train_test_split(X, y, test_size=0.2, random_state=42)\n",
        "\n",
        "    # Oversample the minority class using SMOTE\n",
        "    smote = SMOTE(random_state=42)\n",
        "    X_train_res, y_train_res = smote.fit_resample(X_train, y_train)\n",
        "\n",
        "    # Initialize and train the Random Forest model\n",
        "    rf_model = RandomForestClassifier(random_state=42)\n",
        "    rf_model.fit(X_train_res, y_train_res)\n",
        "\n",
        "    # Predict on the test set\n",
        "    y_pred = rf_model.predict(X_test)\n",
        "\n",
        "    # Evaluate the model\n",
        "    accuracy = accuracy_score(y_test, y_pred)\n",
        "    precision = precision_score(y_test, y_pred)\n",
        "    recall = recall_score(y_test, y_pred)\n",
        "    f1 = f1_score(y_test, y_pred)\n",
        "\n",
        "    print(f\"\\nRandom Forest Model Performance ({description}):\")\n",
        "    print(f\"Accuracy: {accuracy}\")\n",
        "    print(f\"Precision: {precision}\")\n",
        "    print(f\"Recall: {recall}\")\n",
        "    print(f\"F1 Score: {f1}\")\n",
        "    print(\"\\nClassification Report:\")\n",
        "    print(classification_report(y_test, y_pred))"
      ]
    },
    {
      "cell_type": "code",
      "execution_count": null,
      "metadata": {
        "id": "3naVDV-2m_4M"
      },
      "outputs": [],
      "source": [
        "'''# Prepare data for modeling\n",
        "X_all_features = data_scaled.drop(columns='class')\n",
        "y = data_scaled['class']\n",
        "\n",
        "# Train and evaluate the model with all features\n",
        "train_evaluate_rf(X_all_features, y, \"All Features\")\n",
        "\n",
        "# Prepare data with high correlation features\n",
        "X_high_corr_features = data_high_corr.drop(columns='class')\n",
        "\n",
        "# Train and evaluate the model with high correlation features\n",
        "train_evaluate_rf(X_high_corr_features, y, \"High Correlation Features\")"
      ]
    },
    {
      "cell_type": "code",
      "execution_count": null,
      "metadata": {
        "id": "o8LMRV5tir7D"
      },
      "outputs": [],
      "source": [
        "# Calculate correlation matrix\n",
        "corr_matrix = round(data.corr(), 2)\n",
        "\n",
        "# Convert correlation matrix to DataFrame\n",
        "corr_df = pd.DataFrame(corr_matrix)\n",
        "\n",
        "# Save correlation matrix to an Excel file\n",
        "excel_file_path = '/content/drive/MyDrive/AI project/datasets/Correlation_Matrix.xlsx' # Define the file path\n",
        "corr_df.to_excel(excel_file_path, index=True) # Save correlation matrix to Excel\n",
        "print(\"Correlation Matrix saved to:\", excel_file_path)"
      ]
    },
    {
      "cell_type": "code",
      "execution_count": null,
      "metadata": {
        "id": "KQDThJYBm_0R"
      },
      "outputs": [],
      "source": [
        "# Define the threshold for high correlation\n",
        "threshold = 0.7\n",
        "\n",
        "# Find variables with high correlation\n",
        "high_corr_vars = set()  # Set to store variable pairs with high correlation\n",
        "for i in range(len(corr_matrix.columns)):\n",
        "    for j in range(i):\n",
        "        if abs(corr_matrix.iloc[i, j]) > threshold:\n",
        "            colname_i = corr_matrix.columns[i]\n",
        "            colname_j = corr_matrix.columns[j]\n",
        "            high_corr_vars.add((colname_i, colname_j))\n",
        "\n",
        "# Print the number of highly correlated variable pairs\n",
        "num_removed_features = len(high_corr_vars)\n",
        "\n",
        "# Remove one variable from each pair of highly correlated variables\n",
        "for pair in high_corr_vars:\n",
        "    # Check if variables still exist in the dataset before dropping\n",
        "    if pair[0] in data_scaled.columns and pair[1] in data_scaled.columns:\n",
        "        # Compute the mean correlation of each variable in the pair with the target variable\n",
        "        corr_with_target_i = abs(data_scaled[pair[0]].corr(data_scaled['class']))\n",
        "        corr_with_target_j = abs(data_scaled[pair[1]].corr(data_scaled['class']))\n",
        "\n",
        "        # Remove the variable with lower absolute correlation with the target variable\n",
        "        if corr_with_target_i > corr_with_target_j:\n",
        "            data_scaled.drop(pair[1], axis=1, inplace=True)\n",
        "        else:\n",
        "            data_scaled.drop(pair[0], axis=1, inplace=True)\n",
        "\n",
        "# Print the number of features removed and the shape of the updated dataset\n",
        "print(\"Number of features removed due to high correlation:\", num_removed_features)\n",
        "print(\"Shape of the updated dataset after removing highly correlated variables:\", data_scaled.shape)"
      ]
    },
    {
      "cell_type": "code",
      "execution_count": null,
      "metadata": {
        "id": "7v4qKCCmm_wf"
      },
      "outputs": [],
      "source": [
        "# Define X and y before removing highly correlated features\n",
        "X_before = data_scaled.drop('class', axis=1)\n",
        "y_before = data_scaled['class']\n",
        "\n",
        "# Split the dataset into train and test sets before removing highly correlated features\n",
        "X_train_before, X_test_before, y_train_before, y_test_before = train_test_split(X_before, y_before, test_size=0.2, random_state=42)"
      ]
    },
    {
      "cell_type": "code",
      "execution_count": null,
      "metadata": {
        "id": "Jx9XnSXam_qb"
      },
      "outputs": [],
      "source": [
        "# Train Random Forest model before removing highly correlated features\n",
        "rfc_before = RandomForestClassifier(random_state=42)\n",
        "rfc_before.fit(X_train_before, y_train_before)\n",
        "\n",
        "# Predictions before removing highly correlated features\n",
        "y_pred_before = rfc_before.predict(X_test_before)\n",
        "\n",
        "# Calculate accuracy before removing highly correlated features\n",
        "accuracy_before = accuracy_score(y_test_before, y_pred_before)\n",
        "\n",
        "print(\"Accuracy before removing highly correlated features:\", accuracy_before)"
      ]
    },
    {
      "cell_type": "code",
      "execution_count": null,
      "metadata": {
        "id": "0ACKkWW9m_n6"
      },
      "outputs": [],
      "source": [
        "# Define X and y after removing highly correlated features\n",
        "X_after = data_scaled.drop('class', axis=1)\n",
        "y_after = data_scaled['class']\n",
        "\n",
        "# Convert to NumPy arrays if they are DataFrames\n",
        "if isinstance(X_after, pd.DataFrame):\n",
        "    X_after = X_after.values\n",
        "if isinstance(y_after, pd.Series):\n",
        "    y_after = y_after.values\n",
        "\n",
        "# Split the dataset into train and test sets after removing highly correlated features\n",
        "X_train_after, X_test_after, y_train_after, y_test_after = train_test_split(X_after, y_after, test_size=0.2, random_state=42)"
      ]
    },
    {
      "cell_type": "code",
      "execution_count": null,
      "metadata": {
        "id": "C9P-Ex52ir4M"
      },
      "outputs": [],
      "source": [
        "# Train Random Forest model after removing highly correlated features\n",
        "rfc_after = RandomForestClassifier(random_state=42)\n",
        "rfc_after.fit(X_train_after, y_train_after)\n",
        "\n",
        "# Predictions after removing highly correlated features\n",
        "y_pred_after = rfc_after.predict(X_test_after)\n",
        "\n",
        "# Calculate accuracy after removing highly correlated features\n",
        "accuracy_after = accuracy_score(y_test_after, y_pred_after)\n",
        "\n",
        "print(\"Accuracy after removing highly correlated features:\", accuracy_after)"
      ]
    },
    {
      "cell_type": "markdown",
      "source": [
        "Random Forest Feature Selection"
      ],
      "metadata": {
        "id": "kezT6VPJsnVu"
      }
    },
    {
      "cell_type": "code",
      "execution_count": null,
      "metadata": {
        "id": "5npukeI_irve"
      },
      "outputs": [],
      "source": [
        "# Initialize the RandomForestClassifier\n",
        "rf = RandomForestClassifier(random_state=42)\n",
        "rf.fit(X_train_after, y_train_after)"
      ]
    },
    {
      "cell_type": "code",
      "execution_count": null,
      "metadata": {
        "id": "0p9vJMZ6137k"
      },
      "outputs": [],
      "source": [
        "# Get feature importances and sort them\n",
        "importances = rf.feature_importances_\n",
        "indices = np.argsort(importances)[::-1]"
      ]
    },
    {
      "cell_type": "code",
      "execution_count": null,
      "metadata": {
        "id": "UU9FNMd7130s"
      },
      "outputs": [],
      "source": [
        "# Evaluate model performance for different numbers of top features\n",
        "from sklearn.model_selection import cross_val_score\n",
        "\n",
        "num_features_list = list(range(1, X_train_after.shape[1] + 1))\n",
        "mean_scores = []\n",
        "\n",
        "for num_features in num_features_list:\n",
        "    selected_indices = indices[:num_features]\n",
        "    X_train_selected = X_train_after[:, selected_indices]\n",
        "    scores = cross_val_score(rf, X_train_selected, y_train_after, cv=5, scoring='accuracy')\n",
        "    mean_scores.append(np.mean(scores))\n",
        "\n",
        "# Find the optimal number of features\n",
        "optimal_num_features = num_features_list[np.argmax(mean_scores)]\n",
        "\n",
        "print(f'Optimal number of features: {optimal_num_features}')\n",
        "\n",
        "# Select the top features\n",
        "selected_indices = indices[:optimal_num_features]\n",
        "X_train_selected = X_train_after[:, selected_indices]\n",
        "X_test_selected = X_test_after[:, selected_indices]"
      ]
    },
    {
      "cell_type": "code",
      "execution_count": null,
      "metadata": {
        "id": "vMne9KGz13yO"
      },
      "outputs": [],
      "source": [
        "from sklearn.ensemble import RandomForestClassifier\n",
        "\n",
        "def select_features_rf(X_train, y_train, X_test, n_features):\n",
        "    rf = RandomForestClassifier(random_state=42)\n",
        "    rf.fit(X_train, y_train)\n",
        "    importances = rf.feature_importances_\n",
        "    indices = np.argsort(importances)[::-1][:n_features]\n",
        "    return X_train[:, indices], X_test[:, indices]\n",
        "\n",
        "# Optimal number of features\n",
        "optimal_num_features = 137\n",
        "\n",
        "# Perform feature selection\n",
        "X_train_rf, X_test_rf = select_features_rf(X_train_after, y_train_after, X_test_after, optimal_num_features)"
      ]
    },
    {
      "cell_type": "markdown",
      "source": [
        "Data Balancing"
      ],
      "metadata": {
        "id": "atBlT-ejsvjE"
      }
    },
    {
      "cell_type": "code",
      "execution_count": null,
      "metadata": {
        "id": "qk9B6-1c13wT"
      },
      "outputs": [],
      "source": [
        "# Balancing methods\n",
        "# Create copies of the training data for resampling methods\n",
        "X_train1, y_train1 = X_train_after.copy(), y_train_after.copy()\n",
        "X_train2, y_train2 = X_train_after.copy(), y_train_after.copy()\n",
        "X_train3, y_train3 = X_train_after.copy(), y_train_after.copy()"
      ]
    },
    {
      "cell_type": "code",
      "execution_count": null,
      "metadata": {
        "id": "Wjfk8Gey13tW"
      },
      "outputs": [],
      "source": [
        "# Finding best parameters for SMOTE\n",
        "from sklearn.ensemble import RandomForestClassifier\n",
        "from imblearn.over_sampling import SMOTE\n",
        "from imblearn.pipeline import Pipeline\n",
        "from sklearn.model_selection import GridSearchCV\n",
        "\n",
        "# Define the pipeline\n",
        "pipeline_smote = Pipeline([\n",
        "    ('smote', SMOTE(random_state=42)),\n",
        "    ('classifier', RandomForestClassifier(random_state=42))\n",
        "])\n",
        "\n",
        "# Define the parameter grid\n",
        "param_grid_smote = {\n",
        "    'smote__sampling_strategy': [0.5, 0.75, 1.0],\n",
        "    'smote__k_neighbors': [3, 5, 7],\n",
        "    'classifier__n_estimators': [100, 200, 300],\n",
        "    'classifier__max_depth': [None, 10, 20, 30]\n",
        "}\n",
        "\n",
        "# Initialize Grid Search\n",
        "grid_search_smote = GridSearchCV(pipeline_smote, param_grid_smote, cv=5, scoring='accuracy', n_jobs=-1)\n",
        "\n",
        "# Fit the model\n",
        "grid_search_smote.fit(X_train_before, y_train_before)\n",
        "\n",
        "# Display the best parameters and best score\n",
        "print(\"Best parameters for SMOTE:\", grid_search_smote.best_params_)\n",
        "print(\"Best score for SMOTE:\", grid_search_smote.best_score_)\n"
      ]
    },
    {
      "cell_type": "code",
      "execution_count": null,
      "metadata": {
        "id": "v5yLWe4R13pd"
      },
      "outputs": [],
      "source": [
        "from imblearn.over_sampling import ADASYN\n",
        "\n",
        "# Define the pipeline\n",
        "pipeline_adasyn = Pipeline([\n",
        "    ('adasyn', ADASYN(random_state=42)),\n",
        "    ('classifier', RandomForestClassifier(random_state=42))\n",
        "])\n",
        "\n",
        "# Define the parameter grid\n",
        "param_grid_adasyn = {\n",
        "    'adasyn__sampling_strategy': [0.5, 0.75, 1.0],\n",
        "    'adasyn__n_neighbors': [3, 5, 7],\n",
        "    'classifier__n_estimators': [100, 200, 300],\n",
        "    'classifier__max_depth': [None, 10, 20, 30]\n",
        "}\n",
        "\n",
        "# Initialize Grid Search\n",
        "grid_search_adasyn = GridSearchCV(pipeline_adasyn, param_grid_adasyn, cv=5, scoring='accuracy', n_jobs=-1)\n",
        "\n",
        "# Fit the model\n",
        "grid_search_adasyn.fit(X_train_before, y_train_before)\n",
        "\n",
        "# Display the best parameters and best score\n",
        "print(\"Best parameters for ADASYN:\", grid_search_adasyn.best_params_)\n",
        "print(\"Best score for ADASYN:\", grid_search_adasyn.best_score_)\n"
      ]
    },
    {
      "cell_type": "code",
      "execution_count": null,
      "metadata": {
        "id": "2OTWyfsK13m9"
      },
      "outputs": [],
      "source": [
        "from imblearn.under_sampling import RandomUnderSampler\n",
        "\n",
        "# Define the pipeline\n",
        "pipeline_rus = Pipeline([\n",
        "    ('rus', RandomUnderSampler(random_state=42)),\n",
        "    ('classifier', RandomForestClassifier(random_state=42))\n",
        "])\n",
        "\n",
        "# Define the parameter grid\n",
        "param_grid_rus = {\n",
        "    'rus__sampling_strategy': ['auto', 0.5, 0.75],\n",
        "    'classifier__n_estimators': [100, 200, 300],\n",
        "    'classifier__max_depth': [None, 10, 20, 30]\n",
        "}\n",
        "\n",
        "# Initialize Grid Search\n",
        "grid_search_rus = GridSearchCV(pipeline_rus, param_grid_rus, cv=5, scoring='accuracy', n_jobs=-1)\n",
        "\n",
        "# Fit the model\n",
        "grid_search_rus.fit(X_train_before, y_train_before)\n",
        "\n",
        "# Display the best parameters and best score\n",
        "print(\"Best parameters for Random Under Sampling:\", grid_search_rus.best_params_)\n",
        "print(\"Best score for Random Under Sampling:\", grid_search_rus.best_score_)\n"
      ]
    },
    {
      "cell_type": "code",
      "execution_count": null,
      "metadata": {
        "id": "lUbkYcAY13iN"
      },
      "outputs": [],
      "source": [
        "from imblearn.over_sampling import SMOTE\n",
        "from sklearn.ensemble import RandomForestClassifier\n",
        "\n",
        "# Define the parameters\n",
        "smote_params = {'k_neighbors': 5, 'sampling_strategy': 0.75}\n",
        "classifier_params = {'max_depth': 30, 'n_estimators': 300}\n",
        "\n",
        "# Initialize the classifier\n",
        "classifier = RandomForestClassifier(random_state=42, **classifier_params)\n",
        "\n",
        "# Initialize SMOTE with specified parameters\n",
        "smote = SMOTE(random_state=42, **smote_params)\n",
        "\n",
        "# Apply SMOTE to the training data\n",
        "X_train_smote, y_train_smote = smote.fit_resample(X_train1, y_train1)\n"
      ]
    },
    {
      "cell_type": "code",
      "execution_count": null,
      "metadata": {
        "id": "kioYwfvR13fu"
      },
      "outputs": [],
      "source": [
        "from imblearn.over_sampling import ADASYN\n",
        "from sklearn.ensemble import RandomForestClassifier\n",
        "\n",
        "# Initialize ADASYN with specified parameters\n",
        "adasyn = ADASYN(n_neighbors=5, sampling_strategy=1.0, random_state=42)\n",
        "\n",
        "# Generate synthetic samples\n",
        "X_train_adasyn, y_train_adasyn = adasyn.fit_resample(X_train2, y_train2)\n",
        "\n",
        "# Initialize RandomForestClassifier with specified parameters\n",
        "classifier = RandomForestClassifier(max_depth=None, n_estimators=200, random_state=42)\n",
        "\n",
        "# Fit the classifier to the resampled data\n",
        "classifier.fit(X_train_adasyn, y_train_adasyn)\n"
      ]
    },
    {
      "cell_type": "code",
      "execution_count": null,
      "metadata": {
        "id": "CEjEzAmX13c2"
      },
      "outputs": [],
      "source": [
        "from imblearn.ensemble import BalancedRandomForestClassifier\n",
        "from imblearn.under_sampling import RandomUnderSampler\n",
        "\n",
        "# Define the RandomUnderSampler with specified parameters\n",
        "undersample = RandomUnderSampler(sampling_strategy=0.75, random_state=42)\n",
        "\n",
        "# Undersample the training data\n",
        "X_train_undersample, y_train_undersample = undersample.fit_resample(X_train3, y_train3)\n",
        "\n",
        "# Define the RandomForestClassifier with specified parameters\n",
        "classifier = BalancedRandomForestClassifier(max_depth=30, n_estimators=300, random_state=42)\n",
        "\n",
        "# Fit the classifier to the undersampled data\n",
        "classifier.fit(X_train_undersample, y_train_undersample)"
      ]
    },
    {
      "cell_type": "code",
      "source": [
        "# Select the top features\n",
        "selected_indices = indices[:optimal_num_features]\n",
        "X_train_selected = X_train_after[:, selected_indices]\n",
        "X_test_selected = X_test_after[:, selected_indices]"
      ],
      "metadata": {
        "id": "_AGE2XBrJI2K"
      },
      "execution_count": null,
      "outputs": []
    },
    {
      "cell_type": "code",
      "execution_count": null,
      "metadata": {
        "id": "-7oAe-gS13To"
      },
      "outputs": [],
      "source": [
        "def evaluate_model(model, X_train, y_train, X_test, y_test):\n",
        "    # Fit the model\n",
        "    model.fit(X_train, y_train)\n",
        "\n",
        "    # Predictions on the test set\n",
        "    y_pred = model.predict(X_test)\n",
        "\n",
        "    # Calculate evaluation metrics\n",
        "    accuracy = accuracy_score(y_test, y_pred)\n",
        "    precision = precision_score(y_test, y_pred)\n",
        "    recall = recall_score(y_test, y_pred)\n",
        "    f1 = f1_score(y_test, y_pred)\n",
        "\n",
        "    # Confusion matrix\n",
        "    conf_matrix = confusion_matrix(y_test, y_pred)\n",
        "\n",
        "    # Classification report\n",
        "    class_report = classification_report(y_test, y_pred)\n",
        "\n",
        "    # Print the evaluation metrics\n",
        "    print(\"Accuracy:\", accuracy)\n",
        "    print(\"Precision:\", precision)\n",
        "    print(\"Recall:\", recall)\n",
        "    print(\"F1 Score:\", f1)\n",
        "\n",
        "    # Print confusion matrix\n",
        "    print(\"Confusion Matrix:\")\n",
        "    print(conf_matrix)\n",
        "\n",
        "    # Print classification report\n",
        "    print(\"Classification Report:\")\n",
        "    print(class_report)"
      ]
    },
    {
      "cell_type": "code",
      "execution_count": null,
      "metadata": {
        "id": "9HeVLdcr13N6"
      },
      "outputs": [],
      "source": [
        "# Random Forest Model Evaluation with Selected Features\n",
        "print(\"Random Forest Model without Feature Engineering or Balancing:\")\n",
        "evaluate_model(RandomForestClassifier(random_state=42), X_train_before, y_train_before, X_test_after, y_test_after)\n",
        "\n",
        "print(\"\\nRandom Forest Model with Feature Engineering but No Balancing:\")\n",
        "evaluate_model(RandomForestClassifier(random_state=42), X_train_selected, y_train_after, X_test_selected, y_test_after)\n",
        "\n",
        "print(\"\\nRandom Forest Model with SMOTE Resampling:\")\n",
        "evaluate_model(RandomForestClassifier(random_state=42), X_train_smote, y_train_smote, X_test_after, y_test_after)\n",
        "\n",
        "print(\"\\nRandom Forest Model with ADASYN Resampling:\")\n",
        "evaluate_model(RandomForestClassifier(random_state=42), X_train_adasyn, y_train_adasyn, X_test_after, y_test_after)\n",
        "\n",
        "print(\"\\nRandom Forest Model with Random Undersampling:\")\n",
        "evaluate_model(RandomForestClassifier(random_state=42), X_train_undersample, y_train_undersample, X_test_after, y_test_after)\n"
      ]
    },
    {
      "cell_type": "code",
      "execution_count": null,
      "metadata": {
        "id": "xNAPndT61294"
      },
      "outputs": [],
      "source": [
        "# SVM Model Evaluation\n",
        "print(\"SVM Model without Feature Engineering or Balancing:\")\n",
        "evaluate_model(SVC(random_state=42), X_train_before, y_train_before, X_test_after, y_test_after)\n",
        "\n",
        "print(\"\\nSVM Model with Feature Engineering but No Balancing:\")\n",
        "evaluate_model(SVC(random_state=42), X_train_selected, y_train_after, X_test_selected, y_test_after)\n",
        "\n",
        "print(\"\\nSVM Model with SMOTE Resampling:\")\n",
        "evaluate_model(SVC(random_state=42), X_train_smote, y_train_smote, X_test_after, y_test_after)\n",
        "\n",
        "print(\"\\nSVM Model with ADASYN Resampling:\")\n",
        "evaluate_model(SVC(random_state=42), X_train_adasyn, y_train_adasyn, X_test_after, y_test_after)\n",
        "\n",
        "print(\"\\nSVM Model with Random Undersampling:\")\n",
        "evaluate_model(SVC(random_state=42), X_train_undersample, y_train_undersample, X_test_after, y_test_after)"
      ]
    },
    {
      "cell_type": "code",
      "execution_count": null,
      "metadata": {
        "id": "S5QFcH5nirq5"
      },
      "outputs": [],
      "source": [
        "from keras.models import Sequential\n",
        "from keras.layers import Dense\n",
        "from keras.optimizers import Adam\n",
        "\n",
        "# Define the MLP model\n",
        "def create_mlp_model(input_shape):\n",
        "    model = Sequential()\n",
        "    model.add(Dense(64, activation='relu', input_shape=input_shape))\n",
        "    model.add(Dense(32, activation='relu'))\n",
        "    model.add(Dense(1, activation='sigmoid'))\n",
        "    model.compile(optimizer=Adam(), loss='binary_crossentropy', metrics=['accuracy'])\n",
        "    return model"
      ]
    },
    {
      "cell_type": "code",
      "execution_count": null,
      "metadata": {
        "id": "HtePb9QTiroc"
      },
      "outputs": [],
      "source": [
        "# MLP Model Evaluations\n",
        "print(\"MLP Model without Feature Engineering or Balancing:\")\n",
        "mlp_model = create_mlp_model(input_shape=(X_train_before.shape[1],))\n",
        "mlp_model.fit(X_train_before, y_train_before, epochs=10, batch_size=32, verbose=0)\n",
        "mlp_pred = (mlp_model.predict(X_test_after) > 0.5).astype(\"int32\")\n",
        "print(classification_report(y_test_after, mlp_pred, digits=4))\n",
        "\n",
        "# MLP Model with Feature Engineering but No Balancing\n",
        "print(\"\\nMLP Model with Feature Engineering but No Balancing:\")\n",
        "mlp_model_fe = create_mlp_model(input_shape=(X_train_selected.shape[1],))\n",
        "mlp_model_fe.fit(X_train_selected, y_train_after, epochs=10, batch_size=32, verbose=0)\n",
        "mlp_pred_fe = (mlp_model_fe.predict(X_test_selected) > 0.5).astype(\"int32\")\n",
        "print(classification_report(y_test_after, mlp_pred_fe, digits=4))\n",
        "\n",
        "\n",
        "print(\"\\nMLP Model with SMOTE Resampling:\")\n",
        "mlp_model_smote = create_mlp_model(input_shape=(X_train_smote.shape[1],))\n",
        "mlp_model_smote.fit(X_train_smote, y_train_smote, epochs=10, batch_size=32, verbose=0)\n",
        "mlp_pred_smote = (mlp_model_smote.predict(X_test_after) > 0.5).astype(\"int32\")\n",
        "print(classification_report(y_test_after, mlp_pred_smote, digits=4))\n",
        "\n",
        "print(\"\\nMLP Model with ADASYN Resampling:\")\n",
        "mlp_model_adasyn = create_mlp_model(input_shape=(X_train_adasyn.shape[1],))\n",
        "mlp_model_adasyn.fit(X_train_adasyn, y_train_adasyn, epochs=10, batch_size=32, verbose=0)\n",
        "mlp_pred_adasyn = (mlp_model_adasyn.predict(X_test_after) > 0.5).astype(\"int32\")\n",
        "print(classification_report(y_test_after, mlp_pred_adasyn, digits=4))\n",
        "\n",
        "print(\"\\nMLP Model with Random Undersampling:\")\n",
        "mlp_model_undersample = create_mlp_model(input_shape=(X_train_undersample.shape[1],))\n",
        "mlp_model_undersample.fit(X_train_undersample, y_train_undersample, epochs=10, batch_size=32, verbose=0)\n",
        "mlp_pred_undersample = (mlp_model_undersample.predict(X_test_after) > 0.5).astype(\"int32\")\n",
        "print(classification_report(y_test_after, mlp_pred_undersample, digits=4))"
      ]
    }
  ],
  "metadata": {
    "colab": {
      "provenance": []
    },
    "kernelspec": {
      "display_name": "Python 3",
      "name": "python3"
    },
    "language_info": {
      "name": "python"
    }
  },
  "nbformat": 4,
  "nbformat_minor": 0
}